{
  "nbformat": 4,
  "nbformat_minor": 0,
  "metadata": {
    "colab": {
      "provenance": [],
      "authorship_tag": "ABX9TyNpQ3SdN3XAz/TN06b9QpT5",
      "include_colab_link": true
    },
    "kernelspec": {
      "name": "python3",
      "display_name": "Python 3"
    },
    "language_info": {
      "name": "python"
    }
  },
  "cells": [
    {
      "cell_type": "markdown",
      "metadata": {
        "id": "view-in-github",
        "colab_type": "text"
      },
      "source": [
        "<a href=\"https://colab.research.google.com/github/Amina-V/Amina-V/blob/main/Filtered_Creators.ipynb\" target=\"_parent\"><img src=\"https://colab.research.google.com/assets/colab-badge.svg\" alt=\"Open In Colab\"/></a>"
      ]
    },
    {
      "cell_type": "code",
      "execution_count": 1,
      "metadata": {
        "id": "9i8neYqA_wLx"
      },
      "outputs": [],
      "source": [
        "import pandas as pd"
      ]
    },
    {
      "cell_type": "code",
      "source": [
        "current_creators = pd.read_csv('/Current_creators.csv')\n",
        "recently_contacted_df = pd.read_csv('/Contacted_Recently.csv')\n",
        "twitter_df = pd.read_csv('/Creator Twitter Following Database [23-SEP-27].csv')\n"
      ],
      "metadata": {
        "id": "0YlC6gL_ACjy"
      },
      "execution_count": 13,
      "outputs": []
    },
    {
      "cell_type": "code",
      "source": [
        "twitter_df['profileUrl'] = twitter_df['profileUrl'].str.replace('http://', '').str.replace('https://', '')\n",
        "recently_contacted_df['Handle'] = recently_contacted_df['Handle'].str.replace('http://', '').str.replace('https://', '')\n",
        "current_creators['Handle'] = current_creators['Handle'].str.replace('http://', '').str.replace('https://', '')"
      ],
      "metadata": {
        "id": "CNOsjc6bB74b"
      },
      "execution_count": 15,
      "outputs": []
    },
    {
      "cell_type": "code",
      "source": [
        "#Cleaning the recently contacted creators db\n",
        "\n",
        "clean_recent = []\n",
        "\n",
        "for url in recently_contacted_df['Handle']:\n",
        "    cleaned_url = url.split('//')[-1].split('?')[0].split('#')[0]\n",
        "    clean_recent.append(cleaned_url)\n",
        "\n",
        "recently_contacted_df['cleaned_handle'] = recently_contacted_df['Handle'].apply(\n",
        "    lambda url: url.split('//')[-1].split('?')[0].split('#')[0]\n",
        ")\n",
        "\n"
      ],
      "metadata": {
        "id": "CS4-FuO8CbcO"
      },
      "execution_count": 29,
      "outputs": []
    },
    {
      "cell_type": "code",
      "source": [
        "#Cleaning the current_creators db\n",
        "\n",
        "clean_current = []\n",
        "\n",
        "for url in current_creators['Handle']:\n",
        "    cleaned_url = url.split('//')[-1].split('?')[0].split('#')[0]\n",
        "    clean_current.append(cleaned_url)\n",
        "\n",
        "current_creators['cleaned_handle'] = current_creators['Handle'].apply(\n",
        "    lambda url: url.split('//')[-1].split('?')[0].split('#')[0]\n",
        ")\n"
      ],
      "metadata": {
        "id": "QOy8t05NDS-b"
      },
      "execution_count": 25,
      "outputs": []
    },
    {
      "cell_type": "code",
      "source": [
        "twitter_df['profileUrl'] = twitter_df['profileUrl'].str.strip()\n",
        "current_creators['cleaned_handle'] = current_creators['cleaned_handle'].str.strip()\n",
        "recently_contacted_df['cleaned_handle'] = recently_contacted_df['cleaned_handle'].str.strip()\n",
        "twitter_df['profileUrl'] = twitter_df['profileUrl'].str.lower()\n",
        "current_creators['cleaned_handle'] = current_creators['cleaned_handle'].str.lower()\n",
        "recently_contacted_df['cleaned_handle'] = recently_contacted_df['cleaned_handle'].str.lower()"
      ],
      "metadata": {
        "id": "_LmDAtZiDoxv"
      },
      "execution_count": 40,
      "outputs": []
    },
    {
      "cell_type": "code",
      "source": [
        "common_current = twitter_df[twitter_df['profileUrl'].isin(current_creators['cleaned_handle'])]\n",
        "twitter_df = twitter_df[~twitter_df['profileUrl'].isin(current_creators['cleaned_handle'])]\n"
      ],
      "metadata": {
        "id": "ty13TBbQEhYY"
      },
      "execution_count": 41,
      "outputs": []
    },
    {
      "cell_type": "code",
      "source": [
        "common_recent = twitter_df[twitter_df['profileUrl'].isin(recently_contacted_df['cleaned_handle'])]\n",
        "twitter_df = twitter_df[~twitter_df['profileUrl'].isin(recently_contacted_df['cleaned_handle'])]\n"
      ],
      "metadata": {
        "id": "2N5fZb_5GI6S"
      },
      "execution_count": 42,
      "outputs": []
    },
    {
      "cell_type": "code",
      "source": [
        "awesome_twitter_df = twitter_df"
      ],
      "metadata": {
        "id": "mVyw0wMKGS30"
      },
      "execution_count": 45,
      "outputs": []
    },
    {
      "cell_type": "code",
      "source": [
        "awesome_twitter_df.to_csv('awesome_twitter_df.csv', index=False)\n",
        "from google.colab import files\n",
        "files.download('awesome_twitter_df.csv')\n"
      ],
      "metadata": {
        "colab": {
          "base_uri": "https://localhost:8080/",
          "height": 17
        },
        "id": "sBfD8Lv7HZ9I",
        "outputId": "a10ea9e3-5f2d-45be-f368-bd38e5eb8633"
      },
      "execution_count": 47,
      "outputs": [
        {
          "output_type": "display_data",
          "data": {
            "text/plain": [
              "<IPython.core.display.Javascript object>"
            ],
            "application/javascript": [
              "\n",
              "    async function download(id, filename, size) {\n",
              "      if (!google.colab.kernel.accessAllowed) {\n",
              "        return;\n",
              "      }\n",
              "      const div = document.createElement('div');\n",
              "      const label = document.createElement('label');\n",
              "      label.textContent = `Downloading \"${filename}\": `;\n",
              "      div.appendChild(label);\n",
              "      const progress = document.createElement('progress');\n",
              "      progress.max = size;\n",
              "      div.appendChild(progress);\n",
              "      document.body.appendChild(div);\n",
              "\n",
              "      const buffers = [];\n",
              "      let downloaded = 0;\n",
              "\n",
              "      const channel = await google.colab.kernel.comms.open(id);\n",
              "      // Send a message to notify the kernel that we're ready.\n",
              "      channel.send({})\n",
              "\n",
              "      for await (const message of channel.messages) {\n",
              "        // Send a message to notify the kernel that we're ready.\n",
              "        channel.send({})\n",
              "        if (message.buffers) {\n",
              "          for (const buffer of message.buffers) {\n",
              "            buffers.push(buffer);\n",
              "            downloaded += buffer.byteLength;\n",
              "            progress.value = downloaded;\n",
              "          }\n",
              "        }\n",
              "      }\n",
              "      const blob = new Blob(buffers, {type: 'application/binary'});\n",
              "      const a = document.createElement('a');\n",
              "      a.href = window.URL.createObjectURL(blob);\n",
              "      a.download = filename;\n",
              "      div.appendChild(a);\n",
              "      a.click();\n",
              "      div.remove();\n",
              "    }\n",
              "  "
            ]
          },
          "metadata": {}
        },
        {
          "output_type": "display_data",
          "data": {
            "text/plain": [
              "<IPython.core.display.Javascript object>"
            ],
            "application/javascript": [
              "download(\"download_7347f900-3b72-4baf-91c2-f73642910626\", \"awesome_twitter_df.csv\", 312046)"
            ]
          },
          "metadata": {}
        }
      ]
    }
  ]
}