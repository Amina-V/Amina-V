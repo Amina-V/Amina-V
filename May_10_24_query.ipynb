{
  "nbformat": 4,
  "nbformat_minor": 0,
  "metadata": {
    "colab": {
      "provenance": [],
      "authorship_tag": "ABX9TyPFPxg/QswjUgO9hL53JMN7"
    },
    "kernelspec": {
      "name": "python3",
      "display_name": "Python 3"
    },
    "language_info": {
      "name": "python"
    }
  },
  "cells": [
    {
      "cell_type": "code",
      "execution_count": null,
      "metadata": {
        "id": "vs33GwdisR16"
      },
      "outputs": [],
      "source": [
        "#Query to acces creator rev p month"
      ]
    },
    {
      "cell_type": "code",
      "source": [
        "SELECT \"public\".\"User\".\"id\" AS \"id\", \"public\".\"User\".\"name\" AS \"name\", \"public\".\"User\".\"email\" AS \"email\", DATE_TRUNC('month', \"UserBalanceChange\".\"createdAt\") AS \"UserBalanceChange__createdAt\", CAST(SUM(\"UserBalanceChange\".\"amountInCents\") AS float) / 100.0 AS \"Total\", CAST(SUM(CASE WHEN \"UserBalanceChange\".\"type\" = CAST('TipCredit' AS \"UserBalanceChangeType\") THEN \"UserBalanceChange\".\"amountInCents\" ELSE 0.0 END) AS float) / 100.0 AS \"Tip\", CAST(SUM(CASE WHEN \"UserBalanceChange\".\"type\" = CAST('SubscriptionCredit' AS \"UserBalanceChangeType\") THEN \"UserBalanceChange\".\"amountInCents\" ELSE 0.0 END) AS float) / 100.0 AS \"Subscriptions\", CAST(SUM(CASE WHEN (\"UserBalanceChange\".\"type\" = CAST('NftSaleCredit' AS \"UserBalanceChangeType\"))\n",
        "    OR (\"UserBalanceChange\".\"type\" = CAST('NftResaleCredit' AS \"UserBalanceChangeType\")) OR (\"UserBalanceChange\".\"type\" = CAST('NftResaleRoyaltyCredit' AS \"UserBalanceChangeType\")) THEN \"UserBalanceChange\".\"amountInCents\" ELSE 0.0 END) AS float) / 100.0 AS \"NFT\"\n",
        "FROM \"public\".\"User\"\n",
        "LEFT JOIN \"public\".\"UserBalanceChange\" AS \"UserBalanceChange\" ON \"public\".\"User\".\"id\" = \"UserBalanceChange\".\"userId\"\n",
        "WHERE (\"public\".\"User\".\"role\" = CAST('creator' AS \"users_role_enum\"))\n",
        "   AND ((\"UserBalanceChange\".\"type\" = CAST('NftSaleCredit' AS \"UserBalanceChangeType\")) OR (\"UserBalanceChange\".\"type\" = CAST('TipCredit' AS \"UserBalanceChangeType\")) OR (\"UserBalanceChange\".\"type\" = CAST('NftResaleCredit' AS \"UserBalanceChangeType\")) OR (\"UserBalanceChange\".\"type\" = CAST('NftResaleRoyaltyCredit' AS \"UserBalanceChangeType\")) OR (\"UserBalanceChange\".\"type\" = CAST('SubscriptionCredit' AS \"UserBalanceChangeType\")))\n",
        "GROUP BY \"public\".\"User\".\"id\", \"public\".\"User\".\"name\", \"public\".\"User\".\"email\", DATE_TRUNC('month', \"UserBalanceChange\".\"createdAt\")\n",
        "ORDER BY \"public\".\"User\".\"id\" ASC, \"public\".\"User\".\"name\" ASC, \"public\".\"User\".\"email\" ASC, DATE_TRUNC('month', \"UserBalanceChange\".\"createdAt\") ASC"
      ],
      "metadata": {
        "id": "FdKv3LE2sTDs"
      },
      "execution_count": null,
      "outputs": []
    }
  ]
}