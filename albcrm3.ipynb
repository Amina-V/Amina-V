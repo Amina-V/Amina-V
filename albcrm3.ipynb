{
  "nbformat": 4,
  "nbformat_minor": 0,
  "metadata": {
    "colab": {
      "provenance": [],
      "authorship_tag": "ABX9TyOmJ1sEIPchnjuMbrgr1UcN",
      "include_colab_link": true
    },
    "kernelspec": {
      "name": "python3",
      "display_name": "Python 3"
    },
    "language_info": {
      "name": "python"
    }
  },
  "cells": [
    {
      "cell_type": "markdown",
      "metadata": {
        "id": "view-in-github",
        "colab_type": "text"
      },
      "source": [
        "<a href=\"https://colab.research.google.com/github/Amina-V/Amina-V/blob/main/albcrm3.ipynb\" target=\"_parent\"><img src=\"https://colab.research.google.com/assets/colab-badge.svg\" alt=\"Open In Colab\"/></a>"
      ]
    },
    {
      "cell_type": "code",
      "execution_count": null,
      "metadata": {
        "id": "DrUh60rJLSBV"
      },
      "outputs": [],
      "source": [
        "import pandas as pd\n",
        "fansly_df = pd.read_csv('/content/Creator Outreach - Database - Fansly (1).csv')\n",
        "wishtender_df = pd.read_csv('/content/Creator Outreach - Database - Wishtender.csv')\n",
        "crm2_df = pd.read_csv('/content/Alberto CRM 2.csv')\n",
        "lead_list_df = pd.read_csv('/content/Alberto Lead List 1  - Drippi Import.csv.csv')\n",
        "invited_df = pd.read_csv('/content/All creators-Invited & Onboarded Creators (DO NOT MODIFY) (6).csv')\n",
        "\n",
        "# Normalize handles\n",
        "def extract_username(handle):\n",
        "    if pd.isna(handle):\n",
        "        return handle\n",
        "    handle = handle.split('/')[-1]  # Get the last part after the '/'\n",
        "    handle = handle.split('?')[0]  # Remove query parameters\n",
        "    handle = handle.split('@')[0]  # Remove '@' if present\n",
        "    return handle.lower()  # Convert to lowercase for consistent comparison\n",
        "fansly_df['Normalized Twitter Handle'] = fansly_df['Twitter URL'].apply(extract_username)\n",
        "wishtender_df['Normalized Twitter Handle'] = wishtender_df['twitter'].apply(extract_username)\n",
        "crm2_df['Normalized Twitter Handle'] = crm2_df['username'].apply(extract_username)\n",
        "lead_list_df['Normalized Twitter Handle'] = lead_list_df['username'].apply(extract_username)\n",
        "invited_df['Normalized Twitter Handle'] = invited_df['Handle'].apply(extract_username)\n",
        "\n",
        "combined_df = pd.concat([fansly_df[['Normalized Twitter Handle']], wishtender_df[['Normalized Twitter Handle']]]).dropna()\n",
        "\n",
        "handles_to_remove = pd.concat([\n",
        "    crm2_df['Normalized Twitter Handle'],\n",
        "    lead_list_df['Normalized Twitter Handle'],\n",
        "    invited_df['Normalized Twitter Handle']\n",
        "]).dropna().unique()\n",
        "\n",
        "albcrm3 = combined_df[~combined_df['Normalized Twitter Handle'].isin(handles_to_remove)]\n",
        "\n",
        "\n",
        "albcrm3['Cleaned Drippi Handle'] = albcrm3['Normalized Twitter Handle']\n",
        "albcrm3['Twitter URL'] = 'https://twitter.com/' + albcrm3['Normalized Twitter Handle']\n",
        "\n",
        "final_csv_path = 'content/Alberto_CRM_3_with_cleaned_handle_and_URL.csv'\n",
        "albcrm3.to_csv(albcrm3, index=False)\n"
      ]
    }
  ]
}