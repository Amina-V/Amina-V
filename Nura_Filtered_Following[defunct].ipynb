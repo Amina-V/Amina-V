{
  "nbformat": 4,
  "nbformat_minor": 0,
  "metadata": {
    "colab": {
      "provenance": [],
      "authorship_tag": "ABX9TyN1Z9RY6liGslZtxqv/Yyi5",
      "include_colab_link": true
    },
    "kernelspec": {
      "name": "python3",
      "display_name": "Python 3"
    },
    "language_info": {
      "name": "python"
    }
  },
  "cells": [
    {
      "cell_type": "markdown",
      "metadata": {
        "id": "view-in-github",
        "colab_type": "text"
      },
      "source": [
        "<a href=\"https://colab.research.google.com/github/Amina-V/Amina-V/blob/main/Nura_Filtered_Following%5Bdefunct%5D.ipynb\" target=\"_parent\"><img src=\"https://colab.research.google.com/assets/colab-badge.svg\" alt=\"Open In Colab\"/></a>"
      ]
    },
    {
      "cell_type": "code",
      "source": [
        "import pandas as pd"
      ],
      "metadata": {
        "id": "iK3pEgyLdJxT"
      },
      "execution_count": null,
      "outputs": []
    },
    {
      "cell_type": "code",
      "source": [
        "current_creators = pd.read_csv('/content/All_Creators_Oct_5.csv')\n",
        "recently_contacted_df = pd.read_csv('/content/Recently_Contacted_Oct_5.csv')\n",
        "twitter_df = pd.read_csv('/content/Nura Following 5thOct.csv')\n"
      ],
      "metadata": {
        "id": "NwX31t9WdQ_B"
      },
      "execution_count": null,
      "outputs": []
    },
    {
      "cell_type": "code",
      "source": [
        "twitter_df['profileUrl'] = twitter_df['profileUrl'].str.replace('http://', '').str.replace('https://', '')\n",
        "recently_contacted_df['Handle'] = recently_contacted_df['Handle'].str.replace('http://', '').str.replace('https://', '')\n",
        "current_creators['Handle'] = current_creators['Handle'].str.replace('http://', '').str.replace('https://', '')"
      ],
      "metadata": {
        "id": "ZbRvywtThDhY"
      },
      "execution_count": null,
      "outputs": []
    },
    {
      "cell_type": "code",
      "source": [
        "\n",
        "\n",
        "# Check for missing values and replace them with an empty string\n",
        "current_creators['Handle'].fillna('', inplace=True)\n",
        "\n",
        "# Initialize an empty list to store cleaned URLs\n",
        "clean_current = []\n",
        "\n",
        "# Loop through each URL and clean it\n",
        "for url in current_creators['Handle']:\n",
        "    cleaned_url = url.split('//')[-1].split('?')[0].split('#')[0]\n",
        "    clean_current.append(cleaned_url)\n",
        "\n",
        "current_creators['cleaned_handle'] = current_creators['Handle'].apply(\n",
        "    lambda url: url.split('//')[-1].split('?')[0].split('#')[0]\n",
        ")\n",
        "\n"
      ],
      "metadata": {
        "id": "K-3vpWCFhQUr"
      },
      "execution_count": null,
      "outputs": []
    },
    {
      "cell_type": "code",
      "source": [
        "recently_contacted_df['Handle'].fillna('', inplace=True)\n",
        "clean_recent = []\n",
        "\n",
        "for url in recently_contacted_df['Handle']:\n",
        "    cleaned_url = url.split('//')[-1].split('?')[0].split('#')[0]\n",
        "    clean_recent.append(cleaned_url)\n",
        "\n",
        "recently_contacted_df['cleaned_handle'] = recently_contacted_df['Handle'].apply(\n",
        "    lambda url: url.split('//')[-1].split('?')[0].split('#')[0]\n",
        ")\n",
        "\n"
      ],
      "metadata": {
        "id": "JI4WBy6qjEB-"
      },
      "execution_count": null,
      "outputs": []
    },
    {
      "cell_type": "code",
      "source": [
        "twitter_df['profileUrl'] = twitter_df['profileUrl'].str.strip()\n",
        "current_creators['cleaned_handle'] = current_creators['cleaned_handle'].str.strip()\n",
        "recently_contacted_df['cleaned_handle'] = recently_contacted_df['cleaned_handle'].str.strip()\n",
        "twitter_df['profileUrl'] = twitter_df['profileUrl'].str.lower()\n",
        "current_creators['cleaned_handle'] = current_creators['cleaned_handle'].str.lower()\n",
        "recently_contacted_df['cleaned_handle'] = recently_contacted_df['cleaned_handle'].str.lower()"
      ],
      "metadata": {
        "id": "Pjf2aiktj8gY"
      },
      "execution_count": null,
      "outputs": []
    },
    {
      "cell_type": "code",
      "source": [
        "common_current = twitter_df[twitter_df['profileUrl'].isin(current_creators['cleaned_handle'])]\n",
        "twitter_df = twitter_df[~twitter_df['profileUrl'].isin(current_creators['cleaned_handle'])]"
      ],
      "metadata": {
        "id": "aaQRW693j-mw"
      },
      "execution_count": null,
      "outputs": []
    },
    {
      "cell_type": "code",
      "source": [
        "common_recent = twitter_df[twitter_df['profileUrl'].isin(recently_contacted_df['cleaned_handle'])]\n",
        "twitter_df = twitter_df[~twitter_df['profileUrl'].isin(recently_contacted_df['cleaned_handle'])]"
      ],
      "metadata": {
        "id": "81qzmrpikClL"
      },
      "execution_count": null,
      "outputs": []
    },
    {
      "cell_type": "code",
      "source": [
        "nura_following_df = twitter_df"
      ],
      "metadata": {
        "id": "GIJH-tJzkEml"
      },
      "execution_count": null,
      "outputs": []
    },
    {
      "cell_type": "code",
      "source": [
        "nura_following_df.to_csv('nura_following_df.csv', index=False)\n",
        "from google.colab import files\n",
        "files.download('nura_following_df.csv')"
      ],
      "metadata": {
        "colab": {
          "base_uri": "https://localhost:8080/",
          "height": 17
        },
        "id": "k3XRVEPikJ55",
        "outputId": "81652bcf-3c00-4fa0-dc04-ac485a9718bc"
      },
      "execution_count": null,
      "outputs": [
        {
          "output_type": "display_data",
          "data": {
            "text/plain": [
              "<IPython.core.display.Javascript object>"
            ],
            "application/javascript": [
              "\n",
              "    async function download(id, filename, size) {\n",
              "      if (!google.colab.kernel.accessAllowed) {\n",
              "        return;\n",
              "      }\n",
              "      const div = document.createElement('div');\n",
              "      const label = document.createElement('label');\n",
              "      label.textContent = `Downloading \"${filename}\": `;\n",
              "      div.appendChild(label);\n",
              "      const progress = document.createElement('progress');\n",
              "      progress.max = size;\n",
              "      div.appendChild(progress);\n",
              "      document.body.appendChild(div);\n",
              "\n",
              "      const buffers = [];\n",
              "      let downloaded = 0;\n",
              "\n",
              "      const channel = await google.colab.kernel.comms.open(id);\n",
              "      // Send a message to notify the kernel that we're ready.\n",
              "      channel.send({})\n",
              "\n",
              "      for await (const message of channel.messages) {\n",
              "        // Send a message to notify the kernel that we're ready.\n",
              "        channel.send({})\n",
              "        if (message.buffers) {\n",
              "          for (const buffer of message.buffers) {\n",
              "            buffers.push(buffer);\n",
              "            downloaded += buffer.byteLength;\n",
              "            progress.value = downloaded;\n",
              "          }\n",
              "        }\n",
              "      }\n",
              "      const blob = new Blob(buffers, {type: 'application/binary'});\n",
              "      const a = document.createElement('a');\n",
              "      a.href = window.URL.createObjectURL(blob);\n",
              "      a.download = filename;\n",
              "      div.appendChild(a);\n",
              "      a.click();\n",
              "      div.remove();\n",
              "    }\n",
              "  "
            ]
          },
          "metadata": {}
        },
        {
          "output_type": "display_data",
          "data": {
            "text/plain": [
              "<IPython.core.display.Javascript object>"
            ],
            "application/javascript": [
              "download(\"download_4d160ac1-4e9d-4497-8de5-d793aa5c38cc\", \"nura_following_df.csv\", 149904)"
            ]
          },
          "metadata": {}
        }
      ]
    }
  ]
}