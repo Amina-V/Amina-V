{
  "nbformat": 4,
  "nbformat_minor": 0,
  "metadata": {
    "colab": {
      "provenance": [],
      "authorship_tag": "ABX9TyOIIviI4diQMdcIHLClC4oB",
      "include_colab_link": true
    },
    "kernelspec": {
      "name": "python3",
      "display_name": "Python 3"
    },
    "language_info": {
      "name": "python"
    }
  },
  "cells": [
    {
      "cell_type": "markdown",
      "metadata": {
        "id": "view-in-github",
        "colab_type": "text"
      },
      "source": [
        "<a href=\"https://colab.research.google.com/github/Amina-V/Amina-V/blob/main/wishtender_creator_list.ipynb\" target=\"_parent\"><img src=\"https://colab.research.google.com/assets/colab-badge.svg\" alt=\"Open In Colab\"/></a>"
      ]
    },
    {
      "cell_type": "code",
      "execution_count": 5,
      "metadata": {
        "id": "Ahuo16j1EubO"
      },
      "outputs": [],
      "source": [
        "import pandas as pd\n",
        "\n",
        "#cleaning the current creator list to compare the handles\n",
        "current = pd.read_csv('/Current_Creators_April_26.csv')\n",
        "\n",
        "def extract_handle(handle):\n",
        "    separators = ['/', '?', '@']\n",
        "    for sep in separators:\n",
        "        if sep in handle:\n",
        "            handle = handle.split(sep)[-1]\n",
        "    return handle\n",
        "\n",
        "current['Cleaned Handles'] = current['Handle'].apply(extract_handle)\n",
        "\n",
        "current.to_csv('Cleaned_Handles_Current_Creators_Apr_26.csv', index=False)\n"
      ]
    },
    {
      "cell_type": "code",
      "source": [
        "# Comparing to current creator db\n",
        "wishtender = pd.read_csv('/WishTender_7k_creator_list 2.csv')\n",
        "wishtender['username'] = wishtender['username'].str.lower()\n",
        "cleaned_handles_set = set(current['Cleaned Handles'].str.lower())\n",
        "filtered_wishtender = wishtender[~wishtender['username'].isin(cleaned_handles_set)]\n"
      ],
      "metadata": {
        "id": "DDfvyqeqGZzq"
      },
      "execution_count": 7,
      "outputs": []
    },
    {
      "cell_type": "code",
      "source": [
        "keywords = [\n",
        "    '🌶️', 'Empress', 'Siren', 'next-door', 'Content Creator', 'cuck', 'puppy', 'Demoness', 'femdomme', 'submissive' 'adult model', 'mature', 'NSFW', 'Ebony', 'camgirl', 'cam model', 'next door', 'Bratty', '18+//', 'Tits', 'Greedy', 'BBW', 'PPV', 'Mommy', 'sissy', 'spicy', '18+', 'Empress', 'Redhead', 'Miss', 'Asian', 'cosplay', 'Goddess', '18+', 'Daddy', 'Queen', 'Domina', 'dominatrix', 'Promo', 'subby', 'wallet', 'Princess', 'hotwife', 'Content Producer', 'princess', 'Financial Dominatrix', 'Duchess', 'findomme', 'nude model', 'girl next door', 'God', 'Succubus', 'Boobs', 'slave', 'OnlyFans', 'Paypig', 'Tiddy', 'Blonde', 'girlfriend', 'beta', 'Pornstar', 'GFE', 'ManyVids', 'minors dni', 'simp', 'loser', 'nympho', 'OF', 'MILF', 'Madame', 'Booty', 'domme', 'Latina', 'Porn', 'Fansly', '21+', 'Mistress', 'MDNI', 'Kink', 'Content', 'Producer', 'SWer', 'Financial Domination', 'Tribute', 'Nympo', 'OF', 'Maitresse', 'Feet', 'Foot', 'GF', 'Tip', 'Drain', 'Booty', 'Content', 'Sadist', 'Sensual'\n",
        "]\n",
        "\n",
        "keyword_set = set(keyword.lower() for keyword in keywords)\n",
        "def has_keyword(row):\n",
        "    description = str(row['description']).lower()\n",
        "    name = str(row['name']).lower()\n",
        "    username = str(row['username']).lower()\n",
        "    for keyword in keyword_set:\n",
        "        if keyword in description or keyword in name or keyword in username:\n",
        "            return True\n",
        "    return False\n",
        "\n",
        "filtered_wishtender.loc[:, 'has_keyword'] = filtered_wishtender.apply(has_keyword, axis=1)\n",
        "\n",
        "final_new_filtered_wishtender.to_csv('Final_Filtered_Wishtender_Creator_List.csv', index=False)"
      ],
      "metadata": {
        "id": "iiHBoUYUI3Tu"
      },
      "execution_count": 13,
      "outputs": []
    }
  ]
}
